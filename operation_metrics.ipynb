{
 "cells": [
  {
   "cell_type": "markdown",
   "metadata": {},
   "source": [
    "# Introduction\n",
    "\n",
    "In this report, we will present the results of the calculation and analysis of metrics to evaluate the effectiveness of the operators at the telecommunications company CallMeMaybe.\n",
    "\n",
    "1. We will outline the company’s objectives based on the results they aim to achieve.\n",
    "2. We will detail the steps and decisions made during the exploratory analysis to obtain optimal and effective information.\n",
    "3. We will provide the calculation and results of the key metrics.\n",
    "4. We will propose and test hypotheses.\n",
    "5. Finally, we will deliver the results along with recommendations.\n",
    "\n"
   ]
  },
  {
   "cell_type": "markdown",
   "metadata": {},
   "source": [
    "# Objectives\n",
    "\n",
    "We aim to establish metrics that will help us identify ineffective operators, based on the following criteria:\n",
    "\n",
    "1. An operator is considered ineffective if they have a high number of missed incoming calls (both internal and external).\n",
    "2. A prolonged waiting time for incoming calls is also regarded as a sign of inefficiency.\n",
    "3. Operators should be making outgoing calls; a low number of such calls will also be an indicator of inefficiency."
   ]
  },
  {
   "cell_type": "code",
   "execution_count": 2,
   "metadata": {},
   "outputs": [],
   "source": [
    "import pandas as pd\n",
    "from matplotlib import pyplot as plt\n",
    "from scipy import stats as st\n",
    "import numpy as np\n",
    "import seaborn as sns"
   ]
  },
  {
   "cell_type": "code",
   "execution_count": 3,
   "metadata": {},
   "outputs": [],
   "source": [
    "dataset = pd.read_csv('/datasets/telecom_dataset_us.csv')\n",
    "\n",
    "clients = pd.read_csv('/datasets/telecom_clients_us.csv')\n"
   ]
  },
  {
   "cell_type": "code",
   "execution_count": 4,
   "metadata": {},
   "outputs": [
    {
     "name": "stdout",
     "output_type": "stream",
     "text": [
      "<class 'pandas.core.frame.DataFrame'>\n",
      "RangeIndex: 53902 entries, 0 to 53901\n",
      "Data columns (total 9 columns):\n",
      " #   Column               Non-Null Count  Dtype  \n",
      "---  ------               --------------  -----  \n",
      " 0   user_id              53902 non-null  int64  \n",
      " 1   date                 53902 non-null  object \n",
      " 2   direction            53902 non-null  object \n",
      " 3   internal             53785 non-null  object \n",
      " 4   operator_id          45730 non-null  float64\n",
      " 5   is_missed_call       53902 non-null  bool   \n",
      " 6   calls_count          53902 non-null  int64  \n",
      " 7   call_duration        53902 non-null  int64  \n",
      " 8   total_call_duration  53902 non-null  int64  \n",
      "dtypes: bool(1), float64(1), int64(4), object(3)\n",
      "memory usage: 3.3+ MB\n",
      "None\n",
      "   user_id                       date direction internal  operator_id  \\\n",
      "0   166377  2019-08-04 00:00:00+03:00        in    False          NaN   \n",
      "1   166377  2019-08-05 00:00:00+03:00       out     True     880022.0   \n",
      "2   166377  2019-08-05 00:00:00+03:00       out     True     880020.0   \n",
      "3   166377  2019-08-05 00:00:00+03:00       out     True     880020.0   \n",
      "4   166377  2019-08-05 00:00:00+03:00       out    False     880022.0   \n",
      "\n",
      "   is_missed_call  calls_count  call_duration  total_call_duration  \n",
      "0            True            2              0                    4  \n",
      "1            True            3              0                    5  \n",
      "2            True            1              0                    1  \n",
      "3           False            1             10                   18  \n",
      "4            True            3              0                   25  \n"
     ]
    }
   ],
   "source": [
    "print(dataset.info())\n",
    "print(dataset.head())"
   ]
  },
  {
   "cell_type": "code",
   "execution_count": 5,
   "metadata": {},
   "outputs": [
    {
     "name": "stdout",
     "output_type": "stream",
     "text": [
      "user_id                8172\n",
      "date                   8172\n",
      "direction              8172\n",
      "internal               8172\n",
      "operator_id            8172\n",
      "is_missed_call         8172\n",
      "calls_count            8172\n",
      "call_duration          8172\n",
      "total_call_duration    8172\n",
      "dtype: int64\n",
      "<class 'pandas.core.frame.DataFrame'>\n",
      "RangeIndex: 53902 entries, 0 to 53901\n",
      "Data columns (total 9 columns):\n",
      " #   Column               Non-Null Count  Dtype                                \n",
      "---  ------               --------------  -----                                \n",
      " 0   user_id              53902 non-null  int64                                \n",
      " 1   date                 53902 non-null  datetime64[ns, pytz.FixedOffset(180)]\n",
      " 2   direction            53902 non-null  object                               \n",
      " 3   internal             53902 non-null  object                               \n",
      " 4   operator_id          53902 non-null  object                               \n",
      " 5   is_missed_call       53902 non-null  bool                                 \n",
      " 6   calls_count          53902 non-null  int64                                \n",
      " 7   call_duration        53902 non-null  int64                                \n",
      " 8   total_call_duration  53902 non-null  int64                                \n",
      "dtypes: bool(1), datetime64[ns, pytz.FixedOffset(180)](1), int64(4), object(3)\n",
      "memory usage: 3.3+ MB\n",
      "None\n"
     ]
    }
   ],
   "source": [
    "# Preparing data for analysis, validating missing data\n",
    "\n",
    "dataset = dataset.fillna('unknown')\n",
    "\n",
    "print((dataset[dataset['operator_id'] == 'unknown']).count())\n",
    "\n",
    "# We found 8,172 data from an unknown operator, we have a dataset of 53,902 data, in the analysis part we will discard these values.\n",
    "\n",
    "# We will change the format of the date column to date format, to facilitate the visualization of the analysis\n",
    "\n",
    "dataset['date'] = pd.to_datetime(dataset['date'])\n",
    "\n",
    "print(dataset.info())"
   ]
  },
  {
   "cell_type": "code",
   "execution_count": 6,
   "metadata": {},
   "outputs": [],
   "source": [
    "# Exploratory analysis\n",
    "\n",
    "# We discard unknown values ​​so that they do not affect our report\n",
    "\n",
    "dataset_ = dataset[dataset['operator_id'] != 'unknown']\n",
    "\n",
    "# In the analysis we found that some operators have been in the company for a very short time, for our categorization they will be discarded, since they will be atypical data that affects our information\n",
    "\n",
    "first_day = dataset_.groupby('operator_id')['date'].min()\n",
    "\n",
    "last_day = dataset_.groupby('operator_id')['date'].max()\n",
    "\n",
    "days_operation = last_day - first_day \n",
    "days_operation.name = 'days_operation'\n",
    "\n",
    "dataset_ = dataset_.join(days_operation, on = 'operator_id')"
   ]
  },
  {
   "cell_type": "code",
   "execution_count": 7,
   "metadata": {},
   "outputs": [
    {
     "name": "stdout",
     "output_type": "stream",
     "text": [
      "       user_id                      date direction internal operator_id  \\\n",
      "1       166377 2019-08-05 00:00:00+03:00       out     True    880022.0   \n",
      "2       166377 2019-08-05 00:00:00+03:00       out     True    880020.0   \n",
      "3       166377 2019-08-05 00:00:00+03:00       out     True    880020.0   \n",
      "4       166377 2019-08-05 00:00:00+03:00       out    False    880022.0   \n",
      "5       166377 2019-08-05 00:00:00+03:00       out    False    880020.0   \n",
      "...        ...                       ...       ...      ...         ...   \n",
      "53136   168361 2019-11-28 00:00:00+03:00       out    False    945296.0   \n",
      "53137   168361 2019-11-28 00:00:00+03:00       out    False    945298.0   \n",
      "53139   168361 2019-11-28 00:00:00+03:00       out    False    945316.0   \n",
      "53140   168361 2019-11-28 00:00:00+03:00       out    False    945280.0   \n",
      "53141   168361 2019-11-28 00:00:00+03:00       out    False    945302.0   \n",
      "\n",
      "       is_missed_call  calls_count  call_duration  total_call_duration  \\\n",
      "1                True            3              0                    5   \n",
      "2                True            1              0                    1   \n",
      "3               False            1             10                   18   \n",
      "4                True            3              0                   25   \n",
      "5               False            2              3                   29   \n",
      "...               ...          ...            ...                  ...   \n",
      "53136           False           68           8345                 9513   \n",
      "53137            True           14              0                  410   \n",
      "53139            True           50              0                  883   \n",
      "53140           False           53           9865                10755   \n",
      "53141           False           66           7317                 8654   \n",
      "\n",
      "      days_operation  \n",
      "1           115 days  \n",
      "2            59 days  \n",
      "3            59 days  \n",
      "4           115 days  \n",
      "5            59 days  \n",
      "...              ...  \n",
      "53136        36 days  \n",
      "53137        36 days  \n",
      "53139        36 days  \n",
      "53140        36 days  \n",
      "53141        36 days  \n",
      "\n",
      "[35782 rows x 10 columns]\n"
     ]
    }
   ],
   "source": [
    "# To perform an appropriate filter of the operators q1 and q3 as they would be represented in a boxplot, this to identify the minimum representative value of the sample and discard the operators who have worked fewer days\n",
    "\n",
    "q1 = dataset_['days_operation'].quantile(0.25)\n",
    "q3 = dataset_['days_operation'].quantile(0.75)\n",
    "\n",
    "dataset_1 = dataset_[dataset_['days_operation'] > '35 days']\n",
    "\n",
    "print(dataset_1)"
   ]
  },
  {
   "cell_type": "code",
   "execution_count": 84,
   "metadata": {},
   "outputs": [
    {
     "name": "stderr",
     "output_type": "stream",
     "text": [
      "/tmp/ipykernel_32/2902297699.py:7: UserWarning: Boolean Series key will be reindexed to match DataFrame index.\n",
      "  dataset_in = dataset_1[dataset_['direction'] == 'in']\n"
     ]
    },
    {
     "data": {
      "image/png": "[encoded data removed]",
      "text/plain": [
       "<Figure size 640x480 with 1 Axes>"
      ]
     },
     "metadata": {},
     "output_type": "display_data"
    }
   ],
   "source": [
    "# Metric calculation\n",
    "\n",
    "# Metric 1: Percentage of missed calls\n",
    "\n",
    "# We created a missed calls indicator, taken from our sample without outliers to establish an appropriate profile of the operators\n",
    "\n",
    "dataset_in = dataset_1[dataset_['direction'] == 'in']\n",
    "\n",
    "missed_call = dataset_in.groupby(['operator_id', 'is_missed_call'])['calls_count'].sum()\n",
    "missed_call = missed_call.reset_index()\n",
    "\n",
    "missed_call_1 = missed_call.pivot_table(index = 'operator_id', columns = 'is_missed_call', values = 'calls_count')\n",
    "missed_call_1 = missed_call_1.reset_index()\n",
    "missed_call_1 = missed_call_1.fillna(0)\n",
    "\n",
    "missed_call_1['missed_indicator'] = (missed_call_1[True]/ (missed_call_1[False] + missed_call_1[True]))*100\n",
    "\n",
    "miss_call_list = missed_call_1.groupby('operator_id')['missed_indicator'].mean()\n",
    "miss_call_list.name = 'missed_call_indicator'\n",
    "\n",
    "miss_call_list = miss_call_list.reset_index()\n",
    "\n",
    "\n",
    "missed_call_1.hist(column = 'missed_indicator')\n",
    "plt.show()"
   ]
  },
  {
   "cell_type": "markdown",
   "metadata": {},
   "source": [
    "# Analysis of Metric 1 Results: Missed Call Percentage\n",
    "\n",
    "We calculated the percentage of missed calls relative to the total calls, which allowed us to establish our first metric for evaluating operators. We observed that some operators have a perfect record with 0% missed calls, while others have rates exceeding 15%. By analyzing the overall performance, we can establish a tolerance threshold of 5%, as over 350 operators out of 403 exhibit this performance.\n"
   ]
  },
  {
   "cell_type": "code",
   "execution_count": 32,
   "metadata": {},
   "outputs": [
    {
     "name": "stdout",
     "output_type": "stream",
     "text": [
      "     operator_id  avg_wait_time\n",
      "0       879896.0       0.171944\n",
      "1       879898.0       0.254944\n",
      "2       880020.0       0.120833\n",
      "3       880022.0       0.233333\n",
      "4       880026.0       0.100000\n",
      "..           ...            ...\n",
      "398     944220.0       0.595897\n",
      "399     944226.0       0.730198\n",
      "400     944644.0       0.403889\n",
      "401     944646.0       0.170060\n",
      "402     944808.0       0.037891\n",
      "\n",
      "[403 rows x 2 columns]\n",
      "     operator_id   wait_time  calls_count  avg_time\n",
      "0       879896.0   10.316667           60  0.171944\n",
      "1       879898.0   30.083333          118  0.254944\n",
      "2       880020.0    0.966667            8  0.120833\n",
      "3       880022.0    1.866667            8  0.233333\n",
      "4       880026.0    2.500000           25  0.100000\n",
      "..           ...         ...          ...       ...\n",
      "398     944220.0  196.050000          329  0.595897\n",
      "399     944226.0  147.500000          202  0.730198\n",
      "400     944644.0   12.116667           30  0.403889\n",
      "401     944646.0   47.616667          280  0.170060\n",
      "402     944808.0    9.700000          256  0.037891\n",
      "\n",
      "[403 rows x 4 columns]\n"
     ]
    },
    {
     "name": "stderr",
     "output_type": "stream",
     "text": [
      "/tmp/ipykernel_32/778429394.py:3: SettingWithCopyWarning: \n",
      "A value is trying to be set on a copy of a slice from a DataFrame.\n",
      "Try using .loc[row_indexer,col_indexer] = value instead\n",
      "\n",
      "See the caveats in the documentation: https://pandas.pydata.org/pandas-docs/stable/user_guide/indexing.html#returning-a-view-versus-a-copy\n",
      "  dataset_in['wait_time'] =  dataset_in['total_call_duration'] - dataset_in['call_duration']\n",
      "/tmp/ipykernel_32/778429394.py:5: SettingWithCopyWarning: \n",
      "A value is trying to be set on a copy of a slice from a DataFrame.\n",
      "Try using .loc[row_indexer,col_indexer] = value instead\n",
      "\n",
      "See the caveats in the documentation: https://pandas.pydata.org/pandas-docs/stable/user_guide/indexing.html#returning-a-view-versus-a-copy\n",
      "  dataset_in['wait_time'] = dataset_in['wait_time']/60\n"
     ]
    },
    {
     "data": {
      "image/png": "[encoded data removed]",
      "text/plain": [
       "<Figure size 640x480 with 1 Axes>"
      ]
     },
     "metadata": {},
     "output_type": "display_data"
    }
   ],
   "source": [
    "# Metric 2: Customer waiting time before being served\n",
    "\n",
    "dataset_in['wait_time'] =  dataset_in['total_call_duration'] - dataset_in['call_duration']\n",
    "\n",
    "dataset_in['wait_time'] = dataset_in['wait_time']/60\n",
    "\n",
    "wait_time = dataset_in.groupby('operator_id')['wait_time', 'calls_count'].sum()\n",
    "wait_time = wait_time.reset_index()\n",
    "wait_time['avg_time'] = wait_time['wait_time']/wait_time['calls_count']\n",
    "\n",
    "wait_time_list = wait_time.groupby('operator_id')['avg_time'].mean()\n",
    "wait_time_list.name = 'avg_wait_time'\n",
    "wait_time_list = wait_time_list.reset_index()\n",
    "print(wait_time_list)\n",
    "print(wait_time)\n",
    "\n",
    "wait_time.hist(column ='avg_time')\n",
    "\n",
    "plt.show()\n"
   ]
  },
  {
   "cell_type": "markdown",
   "metadata": {},
   "source": [
    "# Analysis of Metric 2 Results: Customer Wait Time Before Being Attended\n",
    "\n",
    "To develop this metric, we first calculated the difference between the total call duration ('total_call_duration') and the attention time ('call_duration'). This metric reflects the amount of time the customer spent waiting for the operator to answer the call. We then established an average wait time in minutes per received call.\n",
    "\n",
    "We found that most operators take between 0 and 0.5 minutes to attend to the call, while some data points are closer to 2 minutes, indicating poor performance. Based on this, we can establish another tolerance threshold of 0.5 minutes for wait time, which equates to 30 seconds."
   ]
  },
  {
   "cell_type": "code",
   "execution_count": 31,
   "metadata": {
    "scrolled": true
   },
   "outputs": [
    {
     "name": "stdout",
     "output_type": "stream",
     "text": [
      "     operator_id  avg_out_calls\n",
      "0       879896.0       8.808696\n",
      "1       879898.0      66.415254\n",
      "2       880020.0       0.711864\n",
      "3       880022.0       1.704348\n",
      "4       880026.0      21.176991\n",
      "..           ...            ...\n",
      "381     945298.0      44.027778\n",
      "382     945302.0     196.027778\n",
      "383     945312.0      69.972222\n",
      "384     945316.0      76.361111\n",
      "385     945322.0     139.250000\n",
      "\n",
      "[386 rows x 2 columns]\n",
      "Promedio general de llamadas al dia 18.94795750943532\n"
     ]
    },
    {
     "name": "stderr",
     "output_type": "stream",
     "text": [
      "/tmp/ipykernel_32/1307168799.py:3: UserWarning: Boolean Series key will be reindexed to match DataFrame index.\n",
      "  dataset_out = dataset_1[(dataset_['direction'] == 'out')&(dataset_['internal'] == False)]\n"
     ]
    },
    {
     "data": {
      "image/png": "[encoded data removed]",
      "text/plain": [
       "<Figure size 640x480 with 1 Axes>"
      ]
     },
     "metadata": {},
     "output_type": "display_data"
    }
   ],
   "source": [
    "# Metric 3: Low number of outgoing calls\n",
    "\n",
    "dataset_out = dataset_1[(dataset_['direction'] == 'out')&(dataset_['internal'] == False)]\n",
    "\n",
    "out = dataset_out.groupby(['operator_id','days_operation'])['calls_count'].sum()\n",
    "out = out.reset_index()\n",
    "out['days_operation'] = pd.to_numeric(out['days_operation'].dt.days, downcast='integer')\n",
    "out['avg_per_day'] = out['calls_count']/out['days_operation']\n",
    "\n",
    "out_list = out.groupby('operator_id')['avg_per_day'].mean()\n",
    "out_list.name = 'avg_out_calls'\n",
    "out_list = out_list.reset_index()\n",
    "\n",
    "print(out_list)\n",
    "\n",
    "print(f'Overall average of calls per day',out['avg_per_day'].mean())\n",
    "out.hist(column = 'avg_per_day', bins = 50)\n",
    "\n",
    "plt.show()"
   ]
  },
  {
   "cell_type": "markdown",
   "metadata": {},
   "source": [
    "# Analysis of Metric 3 Results: Low Number of Outgoing Calls\n",
    "\n",
    "Outgoing calls are also an essential part of operations, and a low number of such calls reflects poor performance. We observed that most operators have a call count very close to zero, with very few operators actively trying to contact customers. This metric will require further attention in the future, as improvements might be achieved through better management. Additionally, we noticed that the total number of operators varies compared to the previous metrics, with 386 versus 402 operators, and the total values deviate from the expected values in each list. The expected total value in each list is 472."
   ]
  },
  {
   "cell_type": "markdown",
   "metadata": {},
   "source": [
    "# Conclusion of Metrics\n",
    "\n",
    "Based on the results of the three analyses, we were able to establish the three criteria for evaluating the effectiveness of operators:\n",
    "\n",
    "1. The missed call percentage should be below 5%.\n",
    "2. The customer wait time before being attended to should be no longer than 30 seconds.\n",
    "3. The minimum number of outgoing calls should be 19 per day."
   ]
  },
  {
   "cell_type": "markdown",
   "metadata": {},
   "source": [
    "# Hypothesis Development\n",
    "\n",
    "The development of the metrics to identify ineffective operators led us to establish a hypothesis that deserves consideration.\n",
    "\n",
    "Hypothesis: Operators with fewer days of operation show poorer performance.\n"
   ]
  },
  {
   "cell_type": "code",
   "execution_count": 65,
   "metadata": {},
   "outputs": [
    {
     "name": "stdout",
     "output_type": "stream",
     "text": [
      "     operator_id  days  missed_call_indicator  avg_wait_time  avg_out_calls\n",
      "0       879896.0   115               0.000000       0.171944       8.808696\n",
      "1       879898.0   118               0.000000       0.254944      66.415254\n",
      "2       880020.0    59               0.000000       0.120833       0.711864\n",
      "3       880022.0   115               0.000000       0.233333       1.704348\n",
      "4       880026.0   113               0.000000       0.100000      21.176991\n",
      "..           ...   ...                    ...            ...            ...\n",
      "453     944218.0    36               5.882353       0.611703       4.972222\n",
      "454     944220.0    36               6.382979       0.595897       6.444444\n",
      "455     944226.0    36              18.811881       0.730198       3.722222\n",
      "456     944644.0    36               0.000000       0.403889       3.833333\n",
      "457     944646.0    36               0.357143       0.170060      10.083333\n",
      "\n",
      "[319 rows x 5 columns]\n"
     ]
    },
    {
     "name": "stderr",
     "output_type": "stream",
     "text": [
      "/tmp/ipykernel_32/2834403490.py:3: SettingWithCopyWarning: \n",
      "A value is trying to be set on a copy of a slice from a DataFrame.\n",
      "Try using .loc[row_indexer,col_indexer] = value instead\n",
      "\n",
      "See the caveats in the documentation: https://pandas.pydata.org/pandas-docs/stable/user_guide/indexing.html#returning-a-view-versus-a-copy\n",
      "  dataset_1['days'] = pd.to_numeric(dataset_1['days_operation'].dt.days, downcast='integer')\n"
     ]
    }
   ],
   "source": [
    "# We will develop a list with the qualifications of the employees taken into account in the analysis, in addition to being the final report, it will help us evaluate the hypotheses raised\n",
    "\n",
    "dataset_1['days'] = pd.to_numeric(dataset_1['days_operation'].dt.days, downcast='integer')\n",
    "\n",
    "operator_group = dataset_1.groupby('operator_id')['days'].mean()\n",
    "\n",
    "operator_group = operator_group.reset_index()\n",
    "\n",
    "operator_report = operator_group.merge(miss_call_list, on = 'operator_id', how = 'outer' )\n",
    "\n",
    "operator_report_1 = operator_report.merge(wait_time_list, on = 'operator_id', how = 'outer')\n",
    "\n",
    "operator_report_2 = operator_report_1.merge(out_list, on = 'operator_id', how = 'outer')\n",
    "\n",
    "# # At the end of the report we find that many operators have no record of incoming calls, we cannot replace the values ​​with 0 since they would affect the general indicators, these operators will be discarded\n",
    "\n",
    "operator_report_final = operator_report_2.dropna()\n",
    "\n",
    "print(operator_report_final)\n",
    "    "
   ]
  },
  {
   "cell_type": "code",
   "execution_count": 81,
   "metadata": {},
   "outputs": [
    {
     "name": "stdout",
     "output_type": "stream",
     "text": [
      "Mediana =  59.0\n",
      "LeveneResult(statistic=0.030612175235608875, pvalue=0.8612201252997171)\n",
      "Media operadores nuevos 1.4089544364594289\n",
      "Media operadores antiguos 1.3340008862294452\n",
      "Valor p: 0.86122012529974\n",
      "No podemos rechazar la hipótesis nula\n"
     ]
    }
   ],
   "source": [
    "# Hypothesis tests, to develop our hypothesis tests we calculate the median of the days of operation, so we will have two groups before and after the median\n",
    "\n",
    "mediana = operator_report_final['days'].median()\n",
    "print(f'Median = ',mediana)\n",
    "\n",
    "# the groups will be divided before and after 59 days, we will evaluate the results of each metric according to the established standards\n",
    "\n",
    "# Metric 1: The percentage of lost calls must be less than 5%\n",
    "\n",
    "# comparison of operators with fewer days of work against the expected value\n",
    "\n",
    "misscall_new = operator_report_final[operator_report_final['days'] < 60]['missed_call_indicator']\n",
    "misscall_old = operator_report_final[operator_report_final['days'] > 59]['missed_call_indicator']\n",
    "\n",
    "alpha = 0.05\n",
    "\n",
    "varianza_test_1 = st.levene(misscall_new, misscall_old)\n",
    "print(varianza_test_1)\n",
    "\n",
    "result_1 = st.ttest_ind(misscall_new, misscall_old, equal_var = True)\n",
    "\n",
    "print(f'Media new operators',misscall_new.mean())\n",
    "print(f'Media old operators',misscall_old.mean())\n",
    "print('Valor p:', result_1.pvalue)\n",
    "if (result_1.pvalue < alpha):\n",
    "    print(\"We reject the null hypothesis\")\n",
    "else:\n",
    "    print(\"We cannot reject the null hypothesis\")\n"
   ]
  },
  {
   "cell_type": "code",
   "execution_count": 82,
   "metadata": {},
   "outputs": [
    {
     "name": "stdout",
     "output_type": "stream",
     "text": [
      "LeveneResult(statistic=0.41994249683664736, pvalue=0.5174348229006707)\n",
      "Media operadores nuevos 0.25217029859396156\n",
      "Media operadores antiguos 0.29935859432952094\n",
      "Valor p: 0.033889151361072234\n",
      "Rechazamos la hipótesis nula\n"
     ]
    }
   ],
   "source": [
    "# Metric 2: The customer's waiting time before being served must be 30 seconds\n",
    "# the new variables refer to operators with fewer working days\n",
    "\n",
    "avg_wait_new = operator_report_final[operator_report_final['days'] < 60]['avg_wait_time']\n",
    "avg_wait_old = operator_report_final[operator_report_final['days'] > 59]['avg_wait_time']\n",
    "alpha = 0.05\n",
    "\n",
    "varianza_test_2 = st.levene(avg_wait_new, avg_wait_old)\n",
    "\n",
    "print(varianza_test_2)\n",
    "\n",
    "\n",
    "result_2 = st.ttest_ind(avg_wait_new, avg_wait_old, equal_var = True)\n",
    "\n",
    "print(f'Media new operators',avg_wait_new.mean())\n",
    "print(f'Media old operators',avg_wait_old.mean())\n",
    "\n",
    "print('Valor p:', result_2.pvalue)\n",
    "if (result_2.pvalue < alpha):\n",
    "    print(\"We reject the null hypothesis\")\n",
    "else:\n",
    "    print(\"We cannot reject the null hypothesis\")"
   ]
  },
  {
   "cell_type": "code",
   "execution_count": 83,
   "metadata": {},
   "outputs": [
    {
     "name": "stdout",
     "output_type": "stream",
     "text": [
      "LeveneResult(statistic=1.5700780161380372, pvalue=0.2111191545898321)\n",
      "Media operadores nuevos 9.481658137545281\n",
      "Media operadores antiguos 17.489037881209505\n",
      "Valor p: 0.2156435826974055\n",
      "No podemos rechazar la hipótesis nula\n"
     ]
    }
   ],
   "source": [
    "# Metric 3: The minimum number of outgoing calls must be 19 per day.\n",
    "\n",
    "avg_out_calls_new = operator_report_final[operator_report_final['days'] < 60]['avg_out_calls']\n",
    "avg_out_calls_old =operator_report_final[operator_report_final['days'] > 59]['avg_out_calls']\n",
    "alpha = 0.05\n",
    "\n",
    "varianza_test_3 = st.levene(avg_out_calls_new, avg_out_calls_old)\n",
    "\n",
    "print(varianza_test_3)\n",
    "\n",
    "\n",
    "result_3 = st.ttest_ind(avg_out_calls_new, avg_out_calls_old, equal_var = True)\n",
    "\n",
    "print(f'Media new operators',avg_out_calls_new.mean())\n",
    "print(f'Media old operators',avg_out_calls_old.mean())\n",
    "\n",
    "print('Valor p:', result_3.pvalue)\n",
    "if (result_3.pvalue < alpha):\n",
    "    print(\"We reject the null hypothesis\")\n",
    "else:\n",
    "    print(\"We cannot reject the null hypothesis\")"
   ]
  },
  {
   "cell_type": "markdown",
   "metadata": {},
   "source": [
    "# Conclusion of Hypothesis Tests\n",
    "\n",
    "During the metric calculations, we noticed certain differences in behavior between older and newer operators. We wanted to test whether the results truly vary between the two groups. We established a median of 59 days of operation to divide the new operators from the experienced ones, then compared both samples to evaluate the results.\n",
    "\n",
    "Metric 1: Although the average values are similar (1.4 and 1.3), the hypothesis test shows that the behaviors are quite different. While the results appear favorable for both groups—since both are below the 5% missed call threshold—the outcome is optimal for both.\n",
    "\n",
    "Metric 2: Here, we observe that the results are indeed similar, with averages of 0.25 and 0.29, and the hypothesis test suggests we reject the hypothesis. The results are highly favorable for both groups, with an average wait time below the expected 0.05 minutes.\n",
    "\n",
    "Metric 3: The hypothesis test for this metric yields results similar to those of Metric 1, but the averages differ significantly: 9.4 for new operators and 17.4 for experienced operators. We observe poor performance from new operators, falling short of the expected 19 outgoing calls per day. However, experienced operators also fall below the expected result."
   ]
  },
  {
   "cell_type": "markdown",
   "metadata": {},
   "source": [
    "# Results Delivery\n",
    "\n",
    "1. We have developed a report listing the performance of the operators, titled: operator_report_final. This report includes the operator code, their    days of operation, and the results of the three established metrics.\n",
    "2. We implemented three metrics that will now allow for a proper evaluation of the operators:\n",
    "Metric 1: The missed call percentage should be below 5%.\n",
    "Metric 2: The customer wait time before being attended should be no longer than 30 seconds (0.05 minutes).\n",
    "Metric 3: The minimum number of outgoing calls should be 19 per day.\n",
    "\n",
    "Note: The established standards are the result of the previous analyses and interpretations.\n",
    "\n",
    "3. As expected in any company, operators with fewer days of experience show poorer results compared to those with more experience.\n",
    "4. Employees who have worked less than 35 days do not provide concrete performance results, so it's advisable to allow them some time for adaptation before including them in the evaluation process.\n",
    "\n",
    "# Suggestions\n",
    "\n",
    "1. The metrics can be improved over time and should be complemented with customer satisfaction surveys. In Metric 2, new operators showed good results, but we don't know if the customer received the expected level of service. It's not just about answering the phone quickly and attending all the calls; customer experience is key.\n",
    "2. The company could establish a performance category system as follows:\n",
    "\n",
    "Effective Operator: Meets all three metrics.\n",
    "Competent Operator: Meets two of the three metrics.\n",
    "Ineffective Operator: Meets only one or none of the metrics\n",
    "\n",
    "3. These metrics represent the beginning of the evaluation process, but the operator rating system can be expanded. We should incorporate customer feedback indicators into the formulas, along with internal ratings that can provide a more comprehensive view of operator performance."
   ]
  }
 ],
 "metadata": {
  "ExecuteTimeLog": [
   {
    "duration": 294,
    "start_time": "2024-12-19T05:26:30.666Z"
   },
   {
    "duration": 63,
    "start_time": "2024-12-19T05:27:44.785Z"
   },
   {
    "duration": 10,
    "start_time": "2024-12-19T05:27:52.407Z"
   },
   {
    "duration": 187,
    "start_time": "2024-12-19T05:32:03.975Z"
   },
   {
    "duration": 46,
    "start_time": "2024-12-19T05:32:13.686Z"
   },
   {
    "duration": 11,
    "start_time": "2024-12-19T05:32:15.315Z"
   },
   {
    "duration": 14,
    "start_time": "2024-12-19T05:38:33.779Z"
   },
   {
    "duration": 6,
    "start_time": "2024-12-19T05:40:29.425Z"
   },
   {
    "duration": 6,
    "start_time": "2024-12-19T05:40:33.076Z"
   },
   {
    "duration": 17,
    "start_time": "2024-12-19T05:42:27.845Z"
   },
   {
    "duration": 14,
    "start_time": "2024-12-19T06:06:22.143Z"
   },
   {
    "duration": 20,
    "start_time": "2024-12-19T06:07:13.532Z"
   },
   {
    "duration": 19,
    "start_time": "2024-12-19T06:08:58.939Z"
   },
   {
    "duration": 20,
    "start_time": "2024-12-19T06:15:45.541Z"
   },
   {
    "duration": 21,
    "start_time": "2024-12-19T06:17:27.914Z"
   },
   {
    "duration": 18,
    "start_time": "2024-12-19T06:17:57.625Z"
   },
   {
    "duration": 20,
    "start_time": "2024-12-19T06:18:23.774Z"
   },
   {
    "duration": 3,
    "start_time": "2024-12-19T06:23:26.262Z"
   },
   {
    "duration": 19,
    "start_time": "2024-12-19T06:23:32.251Z"
   },
   {
    "duration": 28,
    "start_time": "2024-12-19T06:27:37.312Z"
   },
   {
    "duration": 444,
    "start_time": "2024-12-19T06:27:46.693Z"
   },
   {
    "duration": 11,
    "start_time": "2024-12-19T06:37:06.243Z"
   },
   {
    "duration": 5,
    "start_time": "2024-12-19T06:38:23.642Z"
   },
   {
    "duration": 18,
    "start_time": "2024-12-19T06:38:30.413Z"
   },
   {
    "duration": 30,
    "start_time": "2024-12-19T06:42:23.012Z"
   },
   {
    "duration": 21,
    "start_time": "2024-12-19T06:43:13.594Z"
   },
   {
    "duration": 24,
    "start_time": "2024-12-19T06:43:32.092Z"
   },
   {
    "duration": 401,
    "start_time": "2024-12-19T06:44:42.993Z"
   },
   {
    "duration": 22,
    "start_time": "2024-12-19T06:45:06.504Z"
   },
   {
    "duration": 24,
    "start_time": "2024-12-19T06:45:20.150Z"
   },
   {
    "duration": 56,
    "start_time": "2024-12-19T06:45:52.985Z"
   },
   {
    "duration": 30,
    "start_time": "2024-12-19T06:46:39.673Z"
   },
   {
    "duration": 21,
    "start_time": "2024-12-19T06:47:32.763Z"
   },
   {
    "duration": 56,
    "start_time": "2024-12-19T06:48:34.486Z"
   },
   {
    "duration": 54,
    "start_time": "2024-12-19T06:49:11.656Z"
   },
   {
    "duration": 4,
    "start_time": "2024-12-19T06:49:22.565Z"
   },
   {
    "duration": 55,
    "start_time": "2024-12-19T06:49:26.452Z"
   },
   {
    "duration": 20,
    "start_time": "2024-12-19T06:49:47.629Z"
   },
   {
    "duration": 20,
    "start_time": "2024-12-19T06:50:12.637Z"
   },
   {
    "duration": 20,
    "start_time": "2024-12-19T06:50:27.179Z"
   },
   {
    "duration": 20,
    "start_time": "2024-12-19T06:51:49.149Z"
   },
   {
    "duration": 23,
    "start_time": "2024-12-19T06:51:55.537Z"
   },
   {
    "duration": 23,
    "start_time": "2024-12-19T06:52:42.388Z"
   },
   {
    "duration": 22,
    "start_time": "2024-12-19T06:56:45.263Z"
   },
   {
    "duration": 24,
    "start_time": "2024-12-19T06:58:54.456Z"
   },
   {
    "duration": 23,
    "start_time": "2024-12-19T07:01:31.497Z"
   },
   {
    "duration": 24,
    "start_time": "2024-12-19T07:02:15.823Z"
   },
   {
    "duration": 24,
    "start_time": "2024-12-19T07:04:05.590Z"
   },
   {
    "duration": 23,
    "start_time": "2024-12-19T07:52:16.912Z"
   },
   {
    "duration": 21,
    "start_time": "2024-12-19T07:52:54.649Z"
   },
   {
    "duration": 21,
    "start_time": "2024-12-19T07:53:05.947Z"
   },
   {
    "duration": 20,
    "start_time": "2024-12-19T07:53:16.074Z"
   },
   {
    "duration": 263,
    "start_time": "2024-12-19T07:55:36.502Z"
   },
   {
    "duration": 338,
    "start_time": "2024-12-19T07:56:02.882Z"
   },
   {
    "duration": 48,
    "start_time": "2024-12-19T07:58:56.642Z"
   },
   {
    "duration": 106,
    "start_time": "2024-12-19T08:00:15.284Z"
   },
   {
    "duration": 110,
    "start_time": "2024-12-19T08:01:42.913Z"
   },
   {
    "duration": 19,
    "start_time": "2024-12-19T08:02:33.368Z"
   },
   {
    "duration": 2,
    "start_time": "2024-12-19T08:02:37.713Z"
   },
   {
    "duration": 42,
    "start_time": "2024-12-19T08:02:38.692Z"
   },
   {
    "duration": 15,
    "start_time": "2024-12-19T08:02:39.401Z"
   },
   {
    "duration": 35,
    "start_time": "2024-12-19T08:02:40.863Z"
   },
   {
    "duration": 19,
    "start_time": "2024-12-19T08:02:45.156Z"
   },
   {
    "duration": 26,
    "start_time": "2024-12-19T08:05:39.650Z"
   },
   {
    "duration": 83,
    "start_time": "2024-12-19T08:11:59.812Z"
   },
   {
    "duration": 28,
    "start_time": "2024-12-19T08:12:06.060Z"
   },
   {
    "duration": 48,
    "start_time": "2024-12-19T08:12:07.783Z"
   },
   {
    "duration": 135,
    "start_time": "2024-12-19T08:12:25.482Z"
   },
   {
    "duration": 24,
    "start_time": "2024-12-19T08:12:33.207Z"
   },
   {
    "duration": 7,
    "start_time": "2024-12-19T08:12:58.932Z"
   },
   {
    "duration": 29,
    "start_time": "2024-12-19T08:13:17.694Z"
   },
   {
    "duration": 27,
    "start_time": "2024-12-19T08:13:27.846Z"
   },
   {
    "duration": 26,
    "start_time": "2024-12-19T08:13:35.312Z"
   },
   {
    "duration": 6,
    "start_time": "2024-12-19T08:14:12.522Z"
   },
   {
    "duration": 6,
    "start_time": "2024-12-19T08:14:48.592Z"
   },
   {
    "duration": 7,
    "start_time": "2024-12-19T08:14:51.490Z"
   },
   {
    "duration": 25,
    "start_time": "2024-12-19T08:15:13.033Z"
   },
   {
    "duration": 34,
    "start_time": "2024-12-19T08:15:54.502Z"
   },
   {
    "duration": 28,
    "start_time": "2024-12-19T08:16:03.763Z"
   },
   {
    "duration": 29,
    "start_time": "2024-12-19T08:16:55.164Z"
   },
   {
    "duration": 28,
    "start_time": "2024-12-19T08:18:43.657Z"
   },
   {
    "duration": 24,
    "start_time": "2024-12-19T08:23:03.461Z"
   },
   {
    "duration": 9,
    "start_time": "2024-12-19T08:23:23.802Z"
   },
   {
    "duration": 2264,
    "start_time": "2024-12-19T08:28:40.953Z"
   },
   {
    "duration": 4,
    "start_time": "2024-12-19T08:30:29.934Z"
   },
   {
    "duration": 416,
    "start_time": "2024-12-19T08:30:35.386Z"
   },
   {
    "duration": 164,
    "start_time": "2024-12-19T08:31:40.553Z"
   },
   {
    "duration": 913,
    "start_time": "2024-12-19T08:32:03.842Z"
   },
   {
    "duration": 42,
    "start_time": "2024-12-19T08:32:06.237Z"
   },
   {
    "duration": 19,
    "start_time": "2024-12-19T08:32:08.363Z"
   },
   {
    "duration": 38,
    "start_time": "2024-12-19T08:32:11.004Z"
   },
   {
    "duration": 27,
    "start_time": "2024-12-19T08:32:13.985Z"
   },
   {
    "duration": 9,
    "start_time": "2024-12-19T08:32:16.344Z"
   },
   {
    "duration": 164,
    "start_time": "2024-12-19T08:32:45.934Z"
   },
   {
    "duration": 909,
    "start_time": "2024-12-19T08:32:54.642Z"
   },
   {
    "duration": 40,
    "start_time": "2024-12-19T08:32:56.283Z"
   },
   {
    "duration": 18,
    "start_time": "2024-12-19T08:32:57.003Z"
   },
   {
    "duration": 38,
    "start_time": "2024-12-19T08:32:57.604Z"
   },
   {
    "duration": 26,
    "start_time": "2024-12-19T08:32:58.287Z"
   },
   {
    "duration": 8,
    "start_time": "2024-12-19T08:32:59.013Z"
   },
   {
    "duration": 155,
    "start_time": "2024-12-19T08:37:56.124Z"
   },
   {
    "duration": 14,
    "start_time": "2024-12-19T08:38:08.775Z"
   },
   {
    "duration": 858,
    "start_time": "2024-12-19T08:38:13.293Z"
   },
   {
    "duration": 42,
    "start_time": "2024-12-19T08:38:15.323Z"
   },
   {
    "duration": 18,
    "start_time": "2024-12-19T08:38:17.546Z"
   },
   {
    "duration": 38,
    "start_time": "2024-12-19T08:38:19.304Z"
   },
   {
    "duration": 26,
    "start_time": "2024-12-19T08:38:21.844Z"
   },
   {
    "duration": 7,
    "start_time": "2024-12-19T08:38:23.052Z"
   },
   {
    "duration": 5,
    "start_time": "2024-12-19T08:40:44.469Z"
   },
   {
    "duration": 873,
    "start_time": "2024-12-19T08:41:12.032Z"
   },
   {
    "duration": 42,
    "start_time": "2024-12-19T08:41:13.887Z"
   },
   {
    "duration": 18,
    "start_time": "2024-12-19T08:41:14.642Z"
   },
   {
    "duration": 38,
    "start_time": "2024-12-19T08:41:15.646Z"
   },
   {
    "duration": 28,
    "start_time": "2024-12-19T08:41:18.944Z"
   },
   {
    "duration": 6,
    "start_time": "2024-12-19T08:41:24.196Z"
   },
   {
    "duration": 490,
    "start_time": "2024-12-19T08:45:02.825Z"
   },
   {
    "duration": 12,
    "start_time": "2024-12-19T08:45:17.344Z"
   },
   {
    "duration": 13,
    "start_time": "2024-12-19T08:45:33.270Z"
   },
   {
    "duration": 28,
    "start_time": "2024-12-19T08:49:12.804Z"
   },
   {
    "duration": 18,
    "start_time": "2024-12-19T08:50:01.982Z"
   },
   {
    "duration": 4,
    "start_time": "2024-12-19T08:56:56.644Z"
   },
   {
    "duration": 18,
    "start_time": "2024-12-19T08:57:20.974Z"
   },
   {
    "duration": 19,
    "start_time": "2024-12-19T08:57:36.853Z"
   },
   {
    "duration": 19,
    "start_time": "2024-12-19T08:58:05.574Z"
   },
   {
    "duration": 20,
    "start_time": "2024-12-19T08:59:21.698Z"
   },
   {
    "duration": 130,
    "start_time": "2024-12-19T09:02:29.652Z"
   },
   {
    "duration": 10,
    "start_time": "2024-12-19T09:09:09.613Z"
   },
   {
    "duration": 12,
    "start_time": "2024-12-19T09:14:15.843Z"
   },
   {
    "duration": 13,
    "start_time": "2024-12-19T09:15:03.944Z"
   },
   {
    "duration": 19,
    "start_time": "2024-12-19T09:18:56.276Z"
   },
   {
    "duration": 19,
    "start_time": "2024-12-19T09:19:19.522Z"
   },
   {
    "duration": 22,
    "start_time": "2024-12-19T09:19:34.993Z"
   },
   {
    "duration": 21,
    "start_time": "2024-12-19T09:21:07.043Z"
   },
   {
    "duration": 131,
    "start_time": "2024-12-19T09:21:51.754Z"
   },
   {
    "duration": 8,
    "start_time": "2024-12-19T09:25:27.349Z"
   },
   {
    "duration": 8,
    "start_time": "2024-12-19T09:26:12.724Z"
   },
   {
    "duration": 8,
    "start_time": "2024-12-19T09:27:23.291Z"
   },
   {
    "duration": 126,
    "start_time": "2024-12-19T09:28:55.616Z"
   },
   {
    "duration": 20,
    "start_time": "2024-12-19T09:29:58.283Z"
   },
   {
    "duration": 10,
    "start_time": "2024-12-19T09:30:11.143Z"
   },
   {
    "duration": 11,
    "start_time": "2024-12-19T09:30:29.664Z"
   },
   {
    "duration": 13,
    "start_time": "2024-12-19T09:31:47.504Z"
   },
   {
    "duration": 13,
    "start_time": "2024-12-19T09:32:51.932Z"
   },
   {
    "duration": 12,
    "start_time": "2024-12-19T09:34:08.839Z"
   },
   {
    "duration": 13,
    "start_time": "2024-12-19T09:35:43.713Z"
   },
   {
    "duration": 12,
    "start_time": "2024-12-19T09:36:27.802Z"
   },
   {
    "duration": 816,
    "start_time": "2024-12-19T09:43:38.943Z"
   },
   {
    "duration": 132,
    "start_time": "2024-12-19T09:44:19.924Z"
   },
   {
    "duration": 121,
    "start_time": "2024-12-19T09:45:08.279Z"
   },
   {
    "duration": 13,
    "start_time": "2024-12-19T09:47:24.847Z"
   },
   {
    "duration": 11,
    "start_time": "2024-12-19T09:53:04.846Z"
   },
   {
    "duration": 12,
    "start_time": "2024-12-19T09:54:08.037Z"
   },
   {
    "duration": 12,
    "start_time": "2024-12-19T09:54:33.166Z"
   },
   {
    "duration": 12,
    "start_time": "2024-12-19T09:55:30.733Z"
   },
   {
    "duration": 15,
    "start_time": "2024-12-19T09:55:39.683Z"
   },
   {
    "duration": 12,
    "start_time": "2024-12-19T10:00:52.294Z"
   },
   {
    "duration": 13,
    "start_time": "2024-12-19T10:02:18.604Z"
   },
   {
    "duration": 120,
    "start_time": "2024-12-19T10:03:11.671Z"
   },
   {
    "duration": 12,
    "start_time": "2024-12-19T10:04:38.153Z"
   },
   {
    "duration": 14,
    "start_time": "2024-12-19T10:04:49.963Z"
   },
   {
    "duration": 93,
    "start_time": "2024-12-19T10:06:01.215Z"
   },
   {
    "duration": 14,
    "start_time": "2024-12-19T10:08:39.464Z"
   },
   {
    "duration": 16,
    "start_time": "2024-12-19T10:09:01.554Z"
   },
   {
    "duration": 119,
    "start_time": "2024-12-19T10:10:39.284Z"
   },
   {
    "duration": 118,
    "start_time": "2024-12-19T10:11:01.227Z"
   },
   {
    "duration": 123,
    "start_time": "2024-12-19T10:11:51.224Z"
   },
   {
    "duration": 141,
    "start_time": "2024-12-19T10:12:35.185Z"
   },
   {
    "duration": 124,
    "start_time": "2024-12-19T10:12:42.123Z"
   },
   {
    "duration": 117,
    "start_time": "2024-12-19T10:12:48.924Z"
   },
   {
    "duration": 121,
    "start_time": "2024-12-19T10:13:00.986Z"
   },
   {
    "duration": 126,
    "start_time": "2024-12-19T10:16:30.603Z"
   },
   {
    "duration": 132,
    "start_time": "2024-12-19T10:16:46.486Z"
   },
   {
    "duration": 6,
    "start_time": "2024-12-19T10:19:03.154Z"
   },
   {
    "duration": 7,
    "start_time": "2024-12-19T10:19:13.593Z"
   },
   {
    "duration": 137,
    "start_time": "2024-12-19T10:56:55.354Z"
   },
   {
    "duration": 120,
    "start_time": "2024-12-19T10:58:30.103Z"
   },
   {
    "duration": 122,
    "start_time": "2024-12-19T10:59:49.355Z"
   },
   {
    "duration": 252,
    "start_time": "2024-12-19T11:00:36.724Z"
   },
   {
    "duration": 118,
    "start_time": "2024-12-19T11:01:52.104Z"
   },
   {
    "duration": 118,
    "start_time": "2024-12-19T11:02:20.883Z"
   },
   {
    "duration": 155,
    "start_time": "2024-12-19T11:02:37.462Z"
   },
   {
    "duration": 87,
    "start_time": "2024-12-19T11:09:03.288Z"
   },
   {
    "duration": 154,
    "start_time": "2024-12-19T11:10:07.952Z"
   },
   {
    "duration": 151,
    "start_time": "2024-12-19T11:11:09.132Z"
   },
   {
    "duration": 153,
    "start_time": "2024-12-19T11:11:42.642Z"
   },
   {
    "duration": 160,
    "start_time": "2024-12-19T19:17:25.847Z"
   },
   {
    "duration": 2572,
    "start_time": "2024-12-19T19:17:36.237Z"
   },
   {
    "duration": 78,
    "start_time": "2024-12-19T19:17:39.987Z"
   },
   {
    "duration": 17,
    "start_time": "2024-12-19T19:17:42.467Z"
   },
   {
    "duration": 40,
    "start_time": "2024-12-19T19:17:44.107Z"
   },
   {
    "duration": 25,
    "start_time": "2024-12-19T19:17:46.157Z"
   },
   {
    "duration": 16,
    "start_time": "2024-12-19T19:17:48.487Z"
   },
   {
    "duration": 233,
    "start_time": "2024-12-19T19:17:49.247Z"
   },
   {
    "duration": 128,
    "start_time": "2024-12-19T19:17:51.097Z"
   },
   {
    "duration": 171,
    "start_time": "2024-12-19T19:17:52.897Z"
   },
   {
    "duration": 4,
    "start_time": "2024-12-19T19:17:56.182Z"
   },
   {
    "duration": 6,
    "start_time": "2024-12-19T19:18:11.827Z"
   },
   {
    "duration": 232,
    "start_time": "2024-12-19T19:27:02.782Z"
   },
   {
    "duration": 31,
    "start_time": "2024-12-19T19:27:14.512Z"
   },
   {
    "duration": 58,
    "start_time": "2024-12-19T19:28:18.395Z"
   },
   {
    "duration": 109,
    "start_time": "2024-12-19T19:28:47.364Z"
   },
   {
    "duration": 160,
    "start_time": "2024-12-19T19:33:54.923Z"
   },
   {
    "duration": 10,
    "start_time": "2024-12-19T19:37:00.412Z"
   },
   {
    "duration": 9,
    "start_time": "2024-12-19T19:40:02.221Z"
   },
   {
    "duration": 223,
    "start_time": "2024-12-19T19:43:51.263Z"
   },
   {
    "duration": 161,
    "start_time": "2024-12-19T19:44:31.613Z"
   },
   {
    "duration": 168,
    "start_time": "2024-12-19T19:49:51.343Z"
   },
   {
    "duration": 186,
    "start_time": "2024-12-19T19:51:22.685Z"
   },
   {
    "duration": 21,
    "start_time": "2024-12-19T19:52:17.973Z"
   },
   {
    "duration": 19,
    "start_time": "2024-12-19T19:52:32.678Z"
   },
   {
    "duration": 146,
    "start_time": "2024-12-19T19:58:35.629Z"
   },
   {
    "duration": 155,
    "start_time": "2024-12-19T19:58:54.722Z"
   },
   {
    "duration": 63,
    "start_time": "2024-12-19T20:01:37.877Z"
   },
   {
    "duration": 37,
    "start_time": "2024-12-19T20:02:38.522Z"
   },
   {
    "duration": 9,
    "start_time": "2024-12-19T20:03:15.562Z"
   },
   {
    "duration": 167,
    "start_time": "2024-12-19T20:03:37.657Z"
   },
   {
    "duration": 137,
    "start_time": "2024-12-19T20:04:11.043Z"
   },
   {
    "duration": 133,
    "start_time": "2024-12-19T20:04:38.305Z"
   },
   {
    "duration": 8,
    "start_time": "2024-12-19T20:06:00.094Z"
   },
   {
    "duration": 14,
    "start_time": "2024-12-19T20:06:05.523Z"
   },
   {
    "duration": 16,
    "start_time": "2024-12-19T20:07:56.583Z"
   },
   {
    "duration": 22,
    "start_time": "2024-12-19T20:08:56.063Z"
   },
   {
    "duration": 19,
    "start_time": "2024-12-19T20:12:31.773Z"
   },
   {
    "duration": 28,
    "start_time": "2024-12-19T20:13:51.162Z"
   },
   {
    "duration": 16,
    "start_time": "2024-12-19T20:13:58.604Z"
   },
   {
    "duration": 16,
    "start_time": "2024-12-19T20:14:15.253Z"
   },
   {
    "duration": 18,
    "start_time": "2024-12-19T20:14:28.563Z"
   },
   {
    "duration": 18,
    "start_time": "2024-12-19T20:15:38.372Z"
   },
   {
    "duration": 25,
    "start_time": "2024-12-19T20:26:47.194Z"
   },
   {
    "duration": 31,
    "start_time": "2024-12-19T20:50:57.605Z"
   },
   {
    "duration": 21,
    "start_time": "2024-12-19T20:52:46.265Z"
   },
   {
    "duration": 4,
    "start_time": "2024-12-19T21:01:19.364Z"
   },
   {
    "duration": 3,
    "start_time": "2024-12-19T21:04:39.085Z"
   },
   {
    "duration": 5,
    "start_time": "2024-12-19T21:08:03.556Z"
   },
   {
    "duration": 6,
    "start_time": "2024-12-19T21:09:40.497Z"
   },
   {
    "duration": 204,
    "start_time": "2024-12-19T21:13:31.126Z"
   },
   {
    "duration": 27,
    "start_time": "2024-12-19T21:14:22.034Z"
   },
   {
    "duration": 22,
    "start_time": "2024-12-19T21:14:29.437Z"
   },
   {
    "duration": 6,
    "start_time": "2024-12-19T21:15:15.410Z"
   },
   {
    "duration": 6,
    "start_time": "2024-12-19T21:15:23.874Z"
   },
   {
    "duration": 27,
    "start_time": "2024-12-19T21:16:32.055Z"
   },
   {
    "duration": 19,
    "start_time": "2024-12-19T21:21:03.526Z"
   },
   {
    "duration": 12,
    "start_time": "2024-12-19T21:21:14.850Z"
   },
   {
    "duration": 7,
    "start_time": "2024-12-19T21:25:01.994Z"
   },
   {
    "duration": 21,
    "start_time": "2024-12-19T21:26:10.206Z"
   },
   {
    "duration": 22,
    "start_time": "2024-12-19T21:26:17.328Z"
   },
   {
    "duration": 7,
    "start_time": "2024-12-19T21:26:25.646Z"
   },
   {
    "duration": 390,
    "start_time": "2024-12-19T21:39:23.364Z"
   },
   {
    "duration": 7,
    "start_time": "2024-12-19T21:40:02.847Z"
   },
   {
    "duration": 24,
    "start_time": "2024-12-19T21:41:54.048Z"
   },
   {
    "duration": 9,
    "start_time": "2024-12-19T21:43:56.312Z"
   },
   {
    "duration": 8,
    "start_time": "2024-12-19T21:48:04.155Z"
   },
   {
    "duration": 8,
    "start_time": "2024-12-19T21:49:50.956Z"
   },
   {
    "duration": 6,
    "start_time": "2024-12-19T21:56:35.635Z"
   },
   {
    "duration": 7,
    "start_time": "2024-12-19T22:03:44.741Z"
   },
   {
    "duration": 7,
    "start_time": "2024-12-19T22:04:19.282Z"
   },
   {
    "duration": 10,
    "start_time": "2024-12-19T22:09:48.141Z"
   },
   {
    "duration": 7,
    "start_time": "2024-12-19T22:10:13.726Z"
   },
   {
    "duration": 6,
    "start_time": "2024-12-19T22:11:56.493Z"
   },
   {
    "duration": 7,
    "start_time": "2024-12-19T22:13:57.600Z"
   },
   {
    "duration": 7,
    "start_time": "2024-12-19T22:16:24.377Z"
   },
   {
    "duration": 27,
    "start_time": "2024-12-19T22:17:04.121Z"
   },
   {
    "duration": 8,
    "start_time": "2024-12-19T22:17:50.422Z"
   },
   {
    "duration": 9,
    "start_time": "2024-12-19T22:19:00.381Z"
   },
   {
    "duration": 8,
    "start_time": "2024-12-19T22:19:26.557Z"
   },
   {
    "duration": 9,
    "start_time": "2024-12-19T22:19:42.676Z"
   },
   {
    "duration": 7,
    "start_time": "2024-12-19T22:25:32.992Z"
   },
   {
    "duration": 6,
    "start_time": "2024-12-19T22:26:32.281Z"
   },
   {
    "duration": 127,
    "start_time": "2024-12-19T23:15:41.647Z"
   }
  ],
  "kernelspec": {
   "display_name": "Python 3 (ipykernel)",
   "language": "python",
   "name": "python3"
  },
  "language_info": {
   "codemirror_mode": {
    "name": "ipython",
    "version": 3
   },
   "file_extension": ".py",
   "mimetype": "text/x-python",
   "name": "python",
   "nbconvert_exporter": "python",
   "pygments_lexer": "ipython3",
   "version": "3.11.7"
  },
  "toc": {
   "base_numbering": 1,
   "nav_menu": {},
   "number_sections": true,
   "sideBar": true,
   "skip_h1_title": true,
   "title_cell": "Table of Contents",
   "title_sidebar": "Contents",
   "toc_cell": false,
   "toc_position": {},
   "toc_section_display": true,
   "toc_window_display": false
  }
 },
 "nbformat": 4,
 "nbformat_minor": 4
}
